{
 "cells": [
  {
   "cell_type": "markdown",
   "source": [
    "# Validation of the Annual Percentage Growth Rate calculation"
   ],
   "metadata": {
    "collapsed": false,
    "pycharm": {
     "name": "#%% md\n"
    }
   }
  },
  {
   "cell_type": "code",
   "execution_count": 1,
   "metadata": {
    "collapsed": true,
    "pycharm": {
     "name": "#%%\n"
    }
   },
   "outputs": [],
   "source": [
    "import pandas as pd"
   ]
  },
  {
   "cell_type": "code",
   "execution_count": 2,
   "outputs": [
    {
     "data": {
      "text/plain": "    Year  Total_Publications_All  Total_Publications_BIM  \\\n0   2007                       4                       4   \n1   2008                       2                       2   \n2   2009                       5                       5   \n3   2010                       3                       2   \n4   2011                       3                       3   \n5   2012                      14                      14   \n6   2013                      12                      12   \n7   2014                      10                      10   \n8   2015                      27                      25   \n9   2016                      26                      25   \n10  2017                      42                      38   \n11  2018                      27                      27   \n12  2019                      48                      44   \n13  2020                      66                      60   \n14  2021                      48                      42   \n15  2022                      56                      47   \n16  2023                      78                      66   \n17  2024                      76                      61   \n\n    Total_Publications_ML  Total_Publications_GIS  \n0                       0                       0  \n1                       0                       0  \n2                       0                       0  \n3                       0                       1  \n4                       0                       0  \n5                       0                       0  \n6                       0                       0  \n7                       0                       0  \n8                       0                       2  \n9                       0                       1  \n10                      0                       4  \n11                      0                       0  \n12                      2                       2  \n13                      3                       2  \n14                      4                       1  \n15                      4                       4  \n16                      8                       2  \n17                      9                       4  ",
      "text/html": "<div>\n<style scoped>\n    .dataframe tbody tr th:only-of-type {\n        vertical-align: middle;\n    }\n\n    .dataframe tbody tr th {\n        vertical-align: top;\n    }\n\n    .dataframe thead th {\n        text-align: right;\n    }\n</style>\n<table border=\"1\" class=\"dataframe\">\n  <thead>\n    <tr style=\"text-align: right;\">\n      <th></th>\n      <th>Year</th>\n      <th>Total_Publications_All</th>\n      <th>Total_Publications_BIM</th>\n      <th>Total_Publications_ML</th>\n      <th>Total_Publications_GIS</th>\n    </tr>\n  </thead>\n  <tbody>\n    <tr>\n      <th>0</th>\n      <td>2007</td>\n      <td>4</td>\n      <td>4</td>\n      <td>0</td>\n      <td>0</td>\n    </tr>\n    <tr>\n      <th>1</th>\n      <td>2008</td>\n      <td>2</td>\n      <td>2</td>\n      <td>0</td>\n      <td>0</td>\n    </tr>\n    <tr>\n      <th>2</th>\n      <td>2009</td>\n      <td>5</td>\n      <td>5</td>\n      <td>0</td>\n      <td>0</td>\n    </tr>\n    <tr>\n      <th>3</th>\n      <td>2010</td>\n      <td>3</td>\n      <td>2</td>\n      <td>0</td>\n      <td>1</td>\n    </tr>\n    <tr>\n      <th>4</th>\n      <td>2011</td>\n      <td>3</td>\n      <td>3</td>\n      <td>0</td>\n      <td>0</td>\n    </tr>\n    <tr>\n      <th>5</th>\n      <td>2012</td>\n      <td>14</td>\n      <td>14</td>\n      <td>0</td>\n      <td>0</td>\n    </tr>\n    <tr>\n      <th>6</th>\n      <td>2013</td>\n      <td>12</td>\n      <td>12</td>\n      <td>0</td>\n      <td>0</td>\n    </tr>\n    <tr>\n      <th>7</th>\n      <td>2014</td>\n      <td>10</td>\n      <td>10</td>\n      <td>0</td>\n      <td>0</td>\n    </tr>\n    <tr>\n      <th>8</th>\n      <td>2015</td>\n      <td>27</td>\n      <td>25</td>\n      <td>0</td>\n      <td>2</td>\n    </tr>\n    <tr>\n      <th>9</th>\n      <td>2016</td>\n      <td>26</td>\n      <td>25</td>\n      <td>0</td>\n      <td>1</td>\n    </tr>\n    <tr>\n      <th>10</th>\n      <td>2017</td>\n      <td>42</td>\n      <td>38</td>\n      <td>0</td>\n      <td>4</td>\n    </tr>\n    <tr>\n      <th>11</th>\n      <td>2018</td>\n      <td>27</td>\n      <td>27</td>\n      <td>0</td>\n      <td>0</td>\n    </tr>\n    <tr>\n      <th>12</th>\n      <td>2019</td>\n      <td>48</td>\n      <td>44</td>\n      <td>2</td>\n      <td>2</td>\n    </tr>\n    <tr>\n      <th>13</th>\n      <td>2020</td>\n      <td>66</td>\n      <td>60</td>\n      <td>3</td>\n      <td>2</td>\n    </tr>\n    <tr>\n      <th>14</th>\n      <td>2021</td>\n      <td>48</td>\n      <td>42</td>\n      <td>4</td>\n      <td>1</td>\n    </tr>\n    <tr>\n      <th>15</th>\n      <td>2022</td>\n      <td>56</td>\n      <td>47</td>\n      <td>4</td>\n      <td>4</td>\n    </tr>\n    <tr>\n      <th>16</th>\n      <td>2023</td>\n      <td>78</td>\n      <td>66</td>\n      <td>8</td>\n      <td>2</td>\n    </tr>\n    <tr>\n      <th>17</th>\n      <td>2024</td>\n      <td>76</td>\n      <td>61</td>\n      <td>9</td>\n      <td>4</td>\n    </tr>\n  </tbody>\n</table>\n</div>"
     },
     "execution_count": 2,
     "metadata": {},
     "output_type": "execute_result"
    }
   ],
   "source": [
    "# import the data\n",
    "data = pd.read_csv('./Generated_Data_table/total_number_of_publications_each_year.csv')\n",
    "data"
   ],
   "metadata": {
    "collapsed": false,
    "pycharm": {
     "name": "#%%\n"
    }
   }
  },
  {
   "cell_type": "code",
   "execution_count": 5,
   "outputs": [
    {
     "data": {
      "text/plain": "(18.9106628574077, 17.382703690509317, 35.09600385206135, 10.408951367381224)"
     },
     "execution_count": 5,
     "metadata": {},
     "output_type": "execute_result"
    }
   ],
   "source": [
    "'''\n",
    "To calculate the Annual Percentage Growth Rate (APGR) for each column in your data table, the formula for the Compound Annual Growth Rate (CAGR) is typically used.\n",
    "'''\n",
    "\n",
    "# calculate the CAGR with corrected approach and data\n",
    "\n",
    "# Define the CAGR function\n",
    "def calculate_cagr(start_value, end_value, periods):\n",
    "    if start_value == 0:  # Handle division by zero if start value is zero\n",
    "        return \"undefined\"\n",
    "    return ((end_value / start_value) ** (1 / periods) - 1) * 100\n",
    "\n",
    "# Input data\n",
    "start_year = 2007\n",
    "end_year = 2024\n",
    "\n",
    "# Starting and ending values for Total Publications and each method\n",
    "total_publications_start = 4\n",
    "total_publications_end = 76\n",
    "\n",
    "bim_lc_start = 4\n",
    "bim_lc_end = 61\n",
    "\n",
    "ml_lc_start = 2  # First non-zero year for ML-LC is 2019\n",
    "ml_lc_end = 9\n",
    "ml_lc_periods = 2024 - 2019  # Period calculation from first non-zero year\n",
    "\n",
    "gis_lc_start = 1  # First non-zero year for GIS-LC is 2010\n",
    "gis_lc_end = 4\n",
    "gis_lc_periods = 2024 - 2010  # Period calculation from first non-zero year\n",
    "\n",
    "# Calculate CAGR for each method\n",
    "total_cagr = calculate_cagr(total_publications_start, total_publications_end, end_year - start_year)\n",
    "bim_lc_cagr = calculate_cagr(bim_lc_start, bim_lc_end, end_year - start_year)\n",
    "ml_lc_cagr = calculate_cagr(ml_lc_start, ml_lc_end, ml_lc_periods)\n",
    "gis_lc_cagr = calculate_cagr(gis_lc_start, gis_lc_end, gis_lc_periods)\n",
    "\n",
    "total_cagr, bim_lc_cagr, ml_lc_cagr, gis_lc_cagr\n"
   ],
   "metadata": {
    "collapsed": false,
    "pycharm": {
     "name": "#%%\n"
    }
   }
  },
  {
   "cell_type": "code",
   "execution_count": 4,
   "outputs": [
    {
     "name": "stdout",
     "output_type": "stream",
     "text": [
      "Total Publications CAGR: 18.91%\n",
      "BIM-LC CAGR: 17.38%\n",
      "ML-LC CAGR: 35.10%\n",
      "GIS-LC CAGR: 10.41%\n"
     ]
    }
   ],
   "source": [
    "print(f\"Total Publications CAGR: {total_cagr:.2f}%\")\n",
    "print(f\"BIM-LC CAGR: {bim_lc_cagr:.2f}%\")\n",
    "print(f\"ML-LC CAGR: {ml_lc_cagr:.2f}%\")\n",
    "print(f\"GIS-LC CAGR: {gis_lc_cagr:.2f}%\")"
   ],
   "metadata": {
    "collapsed": false,
    "pycharm": {
     "name": "#%%\n"
    }
   }
  },
  {
   "cell_type": "code",
   "execution_count": null,
   "outputs": [],
   "source": [
    "# so the results are correct"
   ],
   "metadata": {
    "collapsed": false,
    "pycharm": {
     "name": "#%%\n"
    }
   }
  }
 ],
 "metadata": {
  "kernelspec": {
   "display_name": "Python 3",
   "language": "python",
   "name": "python3"
  },
  "language_info": {
   "codemirror_mode": {
    "name": "ipython",
    "version": 2
   },
   "file_extension": ".py",
   "mimetype": "text/x-python",
   "name": "python",
   "nbconvert_exporter": "python",
   "pygments_lexer": "ipython2",
   "version": "2.7.6"
  }
 },
 "nbformat": 4,
 "nbformat_minor": 0
}